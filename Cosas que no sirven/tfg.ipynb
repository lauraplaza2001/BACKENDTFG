{
 "cells": [
  {
   "cell_type": "code",
   "execution_count": null,
   "metadata": {},
   "outputs": [],
   "source": [
    "from google.colab import drive\n",
    "drive.mount('/content/drive')"
   ]
  },
  {
   "cell_type": "code",
   "execution_count": null,
   "metadata": {},
   "outputs": [],
   "source": [
    "import tensorflow as tf\n",
    "device_name = tf.test.gpu_device_name()\n",
    "if device_name != '/device:GPU:0':\n",
    "  raise SystemError('GPU device not found')\n",
    "print('Found GPU at: {}'.format(device_name))"
   ]
  },
  {
   "cell_type": "code",
   "execution_count": null,
   "metadata": {},
   "outputs": [],
   "source": [
    "import os\n",
    "from os.path import exists, join, basename, splitext\n",
    "\n",
    "git_repo_url = 'https://github.com/CMU-Perceptual-Computing-Lab/openpose.git'\n",
    "project_name = splitext(basename(git_repo_url))[0]\n",
    "\n",
    "if not exists(project_name):\n",
    "  !rm -rf openpose\n",
    "  # see: https://github.com/CMU-Perceptual-Computing-Lab/openpose/issues/949\n",
    "  print(\"install new CMake because of CUDA10\")\n",
    "  cmake_version = 'cmake-3.20.2-linux-x86_64.tar.gz'\n",
    "  if not exists(cmake_version):\n",
    "    !wget -q 'https://cmake.org/files/v3.20/{cmake_version}'\n",
    "  !tar xfz {cmake_version} --strip-components=1 -C /usr/local\n",
    "\n",
    "  print(\"clone openpose\")\n",
    "  !git clone -q --depth 1 $git_repo_url\n",
    "  print(\"install system dependencies\")\n",
    "  !apt-get -qq install -y libatlas-base-dev libprotobuf-dev libleveldb-dev libsnappy-dev libhdf5-serial-dev protobuf-compiler libgflags-dev libgoogle-glog-dev liblmdb-dev opencl-headers ocl-icd-opencl-dev libviennacl-dev\n",
    "  print(\"build openpose\")\n",
    "  !cd openpose && rm -rf build || true && mkdir build && cd build && cmake .. && make -j`nproc`\n"
   ]
  },
  {
   "cell_type": "markdown",
   "metadata": {},
   "source": [
    "## Ahora tenemos el vídeo que queremos analizar y usaremos  openPose ejecutaremos dos veces : uno para video perfil y otro para video frontal\n"
   ]
  },
  {
   "cell_type": "code",
   "execution_count": null,
   "metadata": {},
   "outputs": [],
   "source": [
    "# video_folder = os.path.dirname(colab_video_path)\n",
    "# video_base_name = os.path.basename(colab_video_path)\n",
    "# print(video_base_name)\n",
    "import os\n",
    "from os.path import exists, join, basename, splitext\n",
    "colab_video_path = '/content/drive/My Drive/TFG/probando/videoPerfil.mp4'\n",
    "colab_openpose_video_path = colab_video_path.replace('.mp4', '') + '-openpose.mp4'\n",
    "\n",
    "!cd openpose && ./build/examples/openpose/openpose.bin --number_people_max 2 --video '{colab_video_path}' --display 0 --write_video_with_audio --write_video '{colab_openpose_video_path}' --write_json '/content/drive/My Drive/TFG/videosCorrectos/json/Clean/'  --write_images '/content/drive/My Drive/TFG/videosCorrectos/imagenes/' --disable_blending --part_candidates  # --net_resolution \"-1x736\" --scale_number 4 --scale_gap 0.25\n",
    "\n",
    "\n",
    "\n",
    "\n",
    "colab_video_path = '/content/drive/My Drive/TFG/probando/videoFrontal.mp4'\n",
    "colab_openpose_video_path = colab_video_path.replace('.mp4', '') + '-openpose.mp4'\n",
    "!cd openpose && ./build/examples/openpose/openpose.bin --number_people_max 2 --video '{colab_video_path}' --display 0 --write_video_with_audio --write_video '{colab_openpose_video_path}' --write_json '/content/drive/My Drive/TFG/videosCorrectos/json/Clean/'  --write_images '/content/drive/My Drive/TFG/videosCorrectos/imagenes/' --disable_blending --part_candidates  # --net_resolution \"-1x736\" --scale_number 4 --scale_gap 0.25\n",
    "\n",
    "\n"
   ]
  }
 ],
 "metadata": {
  "kernelspec": {
   "display_name": "Python 3.10.11 ('tfg': venv)",
   "language": "python",
   "name": "python3"
  },
  "language_info": {
   "name": "python",
   "version": "3.10.11"
  },
  "orig_nbformat": 4,
  "vscode": {
   "interpreter": {
    "hash": "3cd9de44ddab5346e100d1a18cd8b9cca0056f8360fc29903f8bf4245f5a1764"
   }
  }
 },
 "nbformat": 4,
 "nbformat_minor": 2
}
